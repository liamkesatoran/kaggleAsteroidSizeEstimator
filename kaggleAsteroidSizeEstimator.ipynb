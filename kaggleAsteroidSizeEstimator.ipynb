{
 "cells": [
  {
   "cell_type": "markdown",
   "metadata": {},
   "source": [
    "Goal : Getting the diameter of an asteroid from the other data.\n",
    "\n",
    "How : Supervised regression with the target being log(diameter)\n",
    "\n",
    "\n",
    "Extra:  I will also remove columns with too high correlation for curiosityadded difficulty"
   ]
  },
  {
   "cell_type": "code",
   "execution_count": 1,
   "metadata": {},
   "outputs": [],
   "source": [
    "import numpy as np\n",
    "import pandas as pd\n",
    "import matplotlib.pyplot as plt"
   ]
  },
  {
   "cell_type": "code",
   "execution_count": 2,
   "metadata": {},
   "outputs": [],
   "source": [
    "# Only the first 10000 rows\n",
    "df = pd.read_csv('Asteroid.csv',nrows = 30000)"
   ]
  },
  {
   "cell_type": "code",
   "execution_count": 3,
   "metadata": {
    "scrolled": true
   },
   "outputs": [
    {
     "data": {
      "text/html": [
       "<div>\n",
       "<style scoped>\n",
       "    .dataframe tbody tr th:only-of-type {\n",
       "        vertical-align: middle;\n",
       "    }\n",
       "\n",
       "    .dataframe tbody tr th {\n",
       "        vertical-align: top;\n",
       "    }\n",
       "\n",
       "    .dataframe thead th {\n",
       "        text-align: right;\n",
       "    }\n",
       "</style>\n",
       "<table border=\"1\" class=\"dataframe\">\n",
       "  <thead>\n",
       "    <tr style=\"text-align: right;\">\n",
       "      <th></th>\n",
       "      <th>full_name</th>\n",
       "      <th>a</th>\n",
       "      <th>e</th>\n",
       "      <th>G</th>\n",
       "      <th>i</th>\n",
       "      <th>om</th>\n",
       "      <th>w</th>\n",
       "      <th>q</th>\n",
       "      <th>ad</th>\n",
       "      <th>per_y</th>\n",
       "      <th>...</th>\n",
       "      <th>rot_per</th>\n",
       "      <th>GM</th>\n",
       "      <th>BV</th>\n",
       "      <th>UB</th>\n",
       "      <th>IR</th>\n",
       "      <th>spec_B</th>\n",
       "      <th>spec_T</th>\n",
       "      <th>neo</th>\n",
       "      <th>pha</th>\n",
       "      <th>moid</th>\n",
       "    </tr>\n",
       "  </thead>\n",
       "  <tbody>\n",
       "    <tr>\n",
       "      <th>0</th>\n",
       "      <td>1 Ceres</td>\n",
       "      <td>2.769165</td>\n",
       "      <td>0.076009</td>\n",
       "      <td>0.12</td>\n",
       "      <td>10.594067</td>\n",
       "      <td>80.305532</td>\n",
       "      <td>73.597694</td>\n",
       "      <td>2.558684</td>\n",
       "      <td>2.979647</td>\n",
       "      <td>4.608202</td>\n",
       "      <td>...</td>\n",
       "      <td>9.074170</td>\n",
       "      <td>62.6284</td>\n",
       "      <td>0.713</td>\n",
       "      <td>0.426</td>\n",
       "      <td>NaN</td>\n",
       "      <td>C</td>\n",
       "      <td>G</td>\n",
       "      <td>N</td>\n",
       "      <td>N</td>\n",
       "      <td>1.59478</td>\n",
       "    </tr>\n",
       "    <tr>\n",
       "      <th>1</th>\n",
       "      <td>2 Pallas</td>\n",
       "      <td>2.772466</td>\n",
       "      <td>0.230337</td>\n",
       "      <td>0.11</td>\n",
       "      <td>34.836234</td>\n",
       "      <td>173.080063</td>\n",
       "      <td>310.048857</td>\n",
       "      <td>2.133865</td>\n",
       "      <td>3.411067</td>\n",
       "      <td>4.616444</td>\n",
       "      <td>...</td>\n",
       "      <td>7.813200</td>\n",
       "      <td>14.3000</td>\n",
       "      <td>0.635</td>\n",
       "      <td>0.284</td>\n",
       "      <td>NaN</td>\n",
       "      <td>B</td>\n",
       "      <td>B</td>\n",
       "      <td>N</td>\n",
       "      <td>N</td>\n",
       "      <td>1.23324</td>\n",
       "    </tr>\n",
       "    <tr>\n",
       "      <th>2</th>\n",
       "      <td>3 Juno</td>\n",
       "      <td>2.669150</td>\n",
       "      <td>0.256942</td>\n",
       "      <td>0.32</td>\n",
       "      <td>12.988919</td>\n",
       "      <td>169.852760</td>\n",
       "      <td>248.138626</td>\n",
       "      <td>1.983332</td>\n",
       "      <td>3.354967</td>\n",
       "      <td>4.360814</td>\n",
       "      <td>...</td>\n",
       "      <td>7.210000</td>\n",
       "      <td>NaN</td>\n",
       "      <td>0.824</td>\n",
       "      <td>0.433</td>\n",
       "      <td>NaN</td>\n",
       "      <td>Sk</td>\n",
       "      <td>S</td>\n",
       "      <td>N</td>\n",
       "      <td>N</td>\n",
       "      <td>1.03454</td>\n",
       "    </tr>\n",
       "    <tr>\n",
       "      <th>3</th>\n",
       "      <td>4 Vesta</td>\n",
       "      <td>2.361418</td>\n",
       "      <td>0.088721</td>\n",
       "      <td>0.32</td>\n",
       "      <td>7.141771</td>\n",
       "      <td>103.810804</td>\n",
       "      <td>150.728541</td>\n",
       "      <td>2.151909</td>\n",
       "      <td>2.570926</td>\n",
       "      <td>3.628837</td>\n",
       "      <td>...</td>\n",
       "      <td>5.342128</td>\n",
       "      <td>17.8000</td>\n",
       "      <td>0.782</td>\n",
       "      <td>0.492</td>\n",
       "      <td>NaN</td>\n",
       "      <td>V</td>\n",
       "      <td>V</td>\n",
       "      <td>N</td>\n",
       "      <td>N</td>\n",
       "      <td>1.13948</td>\n",
       "    </tr>\n",
       "    <tr>\n",
       "      <th>4</th>\n",
       "      <td>5 Astraea</td>\n",
       "      <td>2.574249</td>\n",
       "      <td>0.191095</td>\n",
       "      <td>NaN</td>\n",
       "      <td>5.366988</td>\n",
       "      <td>141.576604</td>\n",
       "      <td>358.687608</td>\n",
       "      <td>2.082324</td>\n",
       "      <td>3.066174</td>\n",
       "      <td>4.130323</td>\n",
       "      <td>...</td>\n",
       "      <td>16.806000</td>\n",
       "      <td>NaN</td>\n",
       "      <td>0.826</td>\n",
       "      <td>0.411</td>\n",
       "      <td>NaN</td>\n",
       "      <td>S</td>\n",
       "      <td>S</td>\n",
       "      <td>N</td>\n",
       "      <td>N</td>\n",
       "      <td>1.09589</td>\n",
       "    </tr>\n",
       "  </tbody>\n",
       "</table>\n",
       "<p>5 rows × 27 columns</p>\n",
       "</div>"
      ],
      "text/plain": [
       "        full_name         a         e     G          i          om  \\\n",
       "0         1 Ceres  2.769165  0.076009  0.12  10.594067   80.305532   \n",
       "1        2 Pallas  2.772466  0.230337  0.11  34.836234  173.080063   \n",
       "2          3 Juno  2.669150  0.256942  0.32  12.988919  169.852760   \n",
       "3         4 Vesta  2.361418  0.088721  0.32   7.141771  103.810804   \n",
       "4       5 Astraea  2.574249  0.191095   NaN   5.366988  141.576604   \n",
       "\n",
       "            w         q        ad     per_y  ...    rot_per       GM     BV  \\\n",
       "0   73.597694  2.558684  2.979647  4.608202  ...   9.074170  62.6284  0.713   \n",
       "1  310.048857  2.133865  3.411067  4.616444  ...   7.813200  14.3000  0.635   \n",
       "2  248.138626  1.983332  3.354967  4.360814  ...   7.210000      NaN  0.824   \n",
       "3  150.728541  2.151909  2.570926  3.628837  ...   5.342128  17.8000  0.782   \n",
       "4  358.687608  2.082324  3.066174  4.130323  ...  16.806000      NaN  0.826   \n",
       "\n",
       "      UB  IR spec_B  spec_T  neo  pha     moid  \n",
       "0  0.426 NaN      C       G    N    N  1.59478  \n",
       "1  0.284 NaN      B       B    N    N  1.23324  \n",
       "2  0.433 NaN     Sk       S    N    N  1.03454  \n",
       "3  0.492 NaN      V       V    N    N  1.13948  \n",
       "4  0.411 NaN      S       S    N    N  1.09589  \n",
       "\n",
       "[5 rows x 27 columns]"
      ]
     },
     "execution_count": 3,
     "metadata": {},
     "output_type": "execute_result"
    }
   ],
   "source": [
    "df.head()"
   ]
  },
  {
   "cell_type": "markdown",
   "metadata": {},
   "source": [
    "There are lots of columns and things to check:\n",
    "I wanted to know if there are NaN values ( there are, we'll deal about it later)\n",
    "Also wanted to know if any column is full of NaNs (column IR is)"
   ]
  },
  {
   "cell_type": "code",
   "execution_count": 4,
   "metadata": {
    "scrolled": true
   },
   "outputs": [
    {
     "name": "stdout",
     "output_type": "stream",
     "text": [
      "full_name False\n",
      "a False\n",
      "e False\n",
      "G True\n",
      "i False\n",
      "om False\n",
      "w False\n",
      "q False\n",
      "ad False\n",
      "per_y False\n",
      "data_arc False\n",
      "condition_code False\n",
      "n_obs_used False\n",
      "H False\n",
      "diameter True\n",
      "extent True\n",
      "albedo True\n",
      "rot_per True\n",
      "GM True\n",
      "BV True\n",
      "UB True\n",
      "IR True\n",
      "spec_B True\n",
      "spec_T True\n",
      "neo False\n",
      "pha False\n",
      "moid False\n"
     ]
    }
   ],
   "source": [
    "for column in df.columns:\n",
    "    print(column, df[column].isnull().values.any())"
   ]
  },
  {
   "cell_type": "markdown",
   "metadata": {},
   "source": [
    "Next thing is to understand what type of data we're dealing with"
   ]
  },
  {
   "cell_type": "code",
   "execution_count": 5,
   "metadata": {
    "scrolled": true
   },
   "outputs": [
    {
     "name": "stdout",
     "output_type": "stream",
     "text": [
      "full_name ['     1 Ceres' '     2 Pallas' '     3 Juno' '     4 Vesta'\n",
      " '     5 Astraea' '     6 Hebe' '     7 Iris' '     8 Flora'\n",
      " '     9 Metis' '    10 Hygiea']\n",
      "a [2.76916515 2.77246592 2.66914952 2.3614179  2.57424892 2.42515999\n",
      " 2.38533381 2.20176419 2.38563654 3.14153918]\n",
      "e [0.07600903 0.23033682 0.25694232 0.08872146 0.19109452 0.20300711\n",
      " 0.23120579 0.15649925 0.12311427 0.11246066]\n",
      "G [0.12 0.11 0.32  nan 0.24 0.28 0.17 0.22 0.23 0.2 ]\n",
      "i [10.59406704 34.83623442 12.98891913  7.14177081  5.36698794 14.7379011\n",
      "  5.52365139  5.88695456  5.57681551  3.83156003]\n",
      "om [ 80.30553157 173.08006275 169.85275981 103.81080443 141.57660421\n",
      " 138.64020276 259.56323069 110.88932989  68.9085767  283.20216686]\n",
      "w [ 73.59769412 310.04885743 248.13862618 150.72854129 358.68760779\n",
      " 239.80749023 145.26510583 285.28746222   6.41736923 312.31520625]\n",
      "q [2.5586836  2.13386493 1.98333205 2.15190945 2.08232406 1.93283527\n",
      " 1.83383082 1.85718974 2.09193063 2.78823962]\n",
      "ad [2.97964671 3.41106691 3.35496699 2.57092634 3.06617378 2.91748471\n",
      " 2.93683681 2.54633864 2.67934244 3.49483874]\n",
      "per_y [4.6082018  4.61644353 4.36081392 3.62883714 4.13032295 3.77675484\n",
      " 3.68410457 3.2671149  3.68480592 5.56829099]\n",
      "data_arc [ 8822 72318 72684 24288 63431 62329 62452 62655 61821 62175]\n",
      "condition_code [0 2 1 4 3]\n",
      "n_obs_used [1002 8490 7104 9325 2861 6034 5206 2744 2649 3409]\n",
      "H [3.34 4.13 5.33 3.2  6.85 5.71 5.51 6.49 6.28 5.43]\n",
      "diameter ['939.4' '545' '246.596' '525.4' '106.699' '185.18' '199.83' '147.491'\n",
      " '190' '407.12']\n",
      "extent ['964.4 x 964.2 x 891.8' '582x556x500' nan '572.6 x 557.2 x 446.4'\n",
      " '279 x 232 x 189' '276x94x78' '59.8x25.4x18.6' '34.4x11.2x11.2'\n",
      " '18.2x10.5x8.9' '5.0x2.0x2.1']\n",
      "albedo [0.09   0.101  0.214  0.4228 0.274  0.2679 0.2766 0.226  0.118  0.0717]\n",
      "rot_per [ 9.07417     7.8132      7.21        5.34212766 16.806       7.2745\n",
      "  7.139      12.865       5.079      27.63      ]\n",
      "GM [6.26284e+01 1.43000e+01         nan 1.78000e+01 7.00000e+00 1.53000e+00\n",
      " 4.91000e-01 7.47500e-01 2.75000e-03 6.89000e-03]\n",
      "BV [0.713 0.635 0.824 0.782 0.826 0.822 0.855 0.885 0.858 0.696]\n",
      "UB [0.426 0.284 0.433 0.492 0.411 0.399 0.484 0.489 0.496 0.351]\n",
      "IR [nan]\n",
      "spec_B ['C' 'B' 'Sk' 'V' 'S' nan 'L' 'Ch' 'X' 'Sl']\n",
      "spec_T ['G' 'B' 'S' 'V' 'C' 'M' 'E' 'FC' 'P' 'CG']\n",
      "neo ['N' 'Y']\n",
      "pha ['N' 'Y']\n",
      "moid [1.59478  1.23324  1.03454  1.13948  1.09589  0.973965 0.8461   0.874176\n",
      " 1.10691  1.77839 ]\n"
     ]
    }
   ],
   "source": [
    "for column in df.columns:\n",
    "    print(column, df[column].unique()[:10])"
   ]
  },
  {
   "cell_type": "markdown",
   "metadata": {},
   "source": [
    "Cleaning and prepping the dataframe:\n",
    "\n",
    "0/ IR is full of nans so I will drop it\n",
    "\n",
    "0bis/ I will drop full name too as I dont believe asteroids are named according to their diameter\n",
    "\n",
    "1/ Dropping condition_code because most seems to be 0\n",
    "\n",
    "2/ spec_B and spec_T might be interesting but I choose to drop them because we already have a lot to deal with\n",
    "\n",
    "3/ will transform neo and pha Y,N to True,False\n",
    "\n",
    "4/ diameter is string type, I will convert to numeric. Since the goal is to guess diameter, i will also drop all rows with a nan diameter.\n",
    "\n",
    "5/ extent is also string type but 3d_types, since I suspect its the asteroid dimentions I will drop it\n",
    "\n",
    "6/ finally replace nans with mean value of column"
   ]
  },
  {
   "cell_type": "code",
   "execution_count": 6,
   "metadata": {},
   "outputs": [],
   "source": [
    "#Step 1\n",
    "df = df.drop('condition_code',axis=1)"
   ]
  },
  {
   "cell_type": "code",
   "execution_count": 7,
   "metadata": {},
   "outputs": [],
   "source": [
    "#Step 4\n",
    "df['diameter']=pd.to_numeric(df['diameter'],errors='coerce') #transforming to numeric, setting errors to NaN\n",
    "dropindexes = df['diameter'][df['diameter'].isnull()].index #rows with nan diameters to drop\n",
    "dropped_df = df.loc[dropindexes] #saving dropped rows for the future\n",
    "df = df.drop(dropindexes, axis=0) "
   ]
  },
  {
   "cell_type": "code",
   "execution_count": 8,
   "metadata": {},
   "outputs": [],
   "source": [
    "#Step 0,2,5\n",
    "df = df.drop(['full_name','IR','spec_B','spec_T','extent'],axis=1)"
   ]
  },
  {
   "cell_type": "code",
   "execution_count": 9,
   "metadata": {},
   "outputs": [],
   "source": [
    "#Step 3\n",
    "df = df.replace({'neo': {'Y': True, 'N': False}})\n",
    "df = df.replace({'pha': {'Y': True, 'N': False}})"
   ]
  },
  {
   "cell_type": "code",
   "execution_count": 10,
   "metadata": {
    "scrolled": true
   },
   "outputs": [
    {
     "data": {
      "text/html": [
       "<div>\n",
       "<style scoped>\n",
       "    .dataframe tbody tr th:only-of-type {\n",
       "        vertical-align: middle;\n",
       "    }\n",
       "\n",
       "    .dataframe tbody tr th {\n",
       "        vertical-align: top;\n",
       "    }\n",
       "\n",
       "    .dataframe thead th {\n",
       "        text-align: right;\n",
       "    }\n",
       "</style>\n",
       "<table border=\"1\" class=\"dataframe\">\n",
       "  <thead>\n",
       "    <tr style=\"text-align: right;\">\n",
       "      <th></th>\n",
       "      <th>a</th>\n",
       "      <th>e</th>\n",
       "      <th>G</th>\n",
       "      <th>i</th>\n",
       "      <th>om</th>\n",
       "      <th>w</th>\n",
       "      <th>q</th>\n",
       "      <th>ad</th>\n",
       "      <th>per_y</th>\n",
       "      <th>data_arc</th>\n",
       "      <th>...</th>\n",
       "      <th>H</th>\n",
       "      <th>diameter</th>\n",
       "      <th>albedo</th>\n",
       "      <th>rot_per</th>\n",
       "      <th>GM</th>\n",
       "      <th>BV</th>\n",
       "      <th>UB</th>\n",
       "      <th>neo</th>\n",
       "      <th>pha</th>\n",
       "      <th>moid</th>\n",
       "    </tr>\n",
       "  </thead>\n",
       "  <tbody>\n",
       "    <tr>\n",
       "      <th>0</th>\n",
       "      <td>2.769165</td>\n",
       "      <td>0.076009</td>\n",
       "      <td>0.120000</td>\n",
       "      <td>10.594067</td>\n",
       "      <td>80.305532</td>\n",
       "      <td>73.597694</td>\n",
       "      <td>2.558684</td>\n",
       "      <td>2.979647</td>\n",
       "      <td>4.608202</td>\n",
       "      <td>8822</td>\n",
       "      <td>...</td>\n",
       "      <td>3.34</td>\n",
       "      <td>939.400</td>\n",
       "      <td>0.0900</td>\n",
       "      <td>9.074170</td>\n",
       "      <td>62.62840</td>\n",
       "      <td>0.713</td>\n",
       "      <td>0.426</td>\n",
       "      <td>False</td>\n",
       "      <td>False</td>\n",
       "      <td>1.59478</td>\n",
       "    </tr>\n",
       "    <tr>\n",
       "      <th>1</th>\n",
       "      <td>2.772466</td>\n",
       "      <td>0.230337</td>\n",
       "      <td>0.110000</td>\n",
       "      <td>34.836234</td>\n",
       "      <td>173.080063</td>\n",
       "      <td>310.048857</td>\n",
       "      <td>2.133865</td>\n",
       "      <td>3.411067</td>\n",
       "      <td>4.616444</td>\n",
       "      <td>72318</td>\n",
       "      <td>...</td>\n",
       "      <td>4.13</td>\n",
       "      <td>545.000</td>\n",
       "      <td>0.1010</td>\n",
       "      <td>7.813200</td>\n",
       "      <td>14.30000</td>\n",
       "      <td>0.635</td>\n",
       "      <td>0.284</td>\n",
       "      <td>False</td>\n",
       "      <td>False</td>\n",
       "      <td>1.23324</td>\n",
       "    </tr>\n",
       "    <tr>\n",
       "      <th>2</th>\n",
       "      <td>2.669150</td>\n",
       "      <td>0.256942</td>\n",
       "      <td>0.320000</td>\n",
       "      <td>12.988919</td>\n",
       "      <td>169.852760</td>\n",
       "      <td>248.138626</td>\n",
       "      <td>1.983332</td>\n",
       "      <td>3.354967</td>\n",
       "      <td>4.360814</td>\n",
       "      <td>72684</td>\n",
       "      <td>...</td>\n",
       "      <td>5.33</td>\n",
       "      <td>246.596</td>\n",
       "      <td>0.2140</td>\n",
       "      <td>7.210000</td>\n",
       "      <td>9.81609</td>\n",
       "      <td>0.824</td>\n",
       "      <td>0.433</td>\n",
       "      <td>False</td>\n",
       "      <td>False</td>\n",
       "      <td>1.03454</td>\n",
       "    </tr>\n",
       "    <tr>\n",
       "      <th>3</th>\n",
       "      <td>2.361418</td>\n",
       "      <td>0.088721</td>\n",
       "      <td>0.320000</td>\n",
       "      <td>7.141771</td>\n",
       "      <td>103.810804</td>\n",
       "      <td>150.728541</td>\n",
       "      <td>2.151909</td>\n",
       "      <td>2.570926</td>\n",
       "      <td>3.628837</td>\n",
       "      <td>24288</td>\n",
       "      <td>...</td>\n",
       "      <td>3.20</td>\n",
       "      <td>525.400</td>\n",
       "      <td>0.4228</td>\n",
       "      <td>5.342128</td>\n",
       "      <td>17.80000</td>\n",
       "      <td>0.782</td>\n",
       "      <td>0.492</td>\n",
       "      <td>False</td>\n",
       "      <td>False</td>\n",
       "      <td>1.13948</td>\n",
       "    </tr>\n",
       "    <tr>\n",
       "      <th>4</th>\n",
       "      <td>2.574249</td>\n",
       "      <td>0.191095</td>\n",
       "      <td>0.186579</td>\n",
       "      <td>5.366988</td>\n",
       "      <td>141.576604</td>\n",
       "      <td>358.687608</td>\n",
       "      <td>2.082324</td>\n",
       "      <td>3.066174</td>\n",
       "      <td>4.130323</td>\n",
       "      <td>63431</td>\n",
       "      <td>...</td>\n",
       "      <td>6.85</td>\n",
       "      <td>106.699</td>\n",
       "      <td>0.2740</td>\n",
       "      <td>16.806000</td>\n",
       "      <td>9.81609</td>\n",
       "      <td>0.826</td>\n",
       "      <td>0.411</td>\n",
       "      <td>False</td>\n",
       "      <td>False</td>\n",
       "      <td>1.09589</td>\n",
       "    </tr>\n",
       "  </tbody>\n",
       "</table>\n",
       "<p>5 rows × 21 columns</p>\n",
       "</div>"
      ],
      "text/plain": [
       "          a         e         G          i          om           w         q  \\\n",
       "0  2.769165  0.076009  0.120000  10.594067   80.305532   73.597694  2.558684   \n",
       "1  2.772466  0.230337  0.110000  34.836234  173.080063  310.048857  2.133865   \n",
       "2  2.669150  0.256942  0.320000  12.988919  169.852760  248.138626  1.983332   \n",
       "3  2.361418  0.088721  0.320000   7.141771  103.810804  150.728541  2.151909   \n",
       "4  2.574249  0.191095  0.186579   5.366988  141.576604  358.687608  2.082324   \n",
       "\n",
       "         ad     per_y  data_arc  ...     H  diameter  albedo    rot_per  \\\n",
       "0  2.979647  4.608202      8822  ...  3.34   939.400  0.0900   9.074170   \n",
       "1  3.411067  4.616444     72318  ...  4.13   545.000  0.1010   7.813200   \n",
       "2  3.354967  4.360814     72684  ...  5.33   246.596  0.2140   7.210000   \n",
       "3  2.570926  3.628837     24288  ...  3.20   525.400  0.4228   5.342128   \n",
       "4  3.066174  4.130323     63431  ...  6.85   106.699  0.2740  16.806000   \n",
       "\n",
       "         GM     BV     UB    neo    pha     moid  \n",
       "0  62.62840  0.713  0.426  False  False  1.59478  \n",
       "1  14.30000  0.635  0.284  False  False  1.23324  \n",
       "2   9.81609  0.824  0.433  False  False  1.03454  \n",
       "3  17.80000  0.782  0.492  False  False  1.13948  \n",
       "4   9.81609  0.826  0.411  False  False  1.09589  \n",
       "\n",
       "[5 rows x 21 columns]"
      ]
     },
     "execution_count": 10,
     "metadata": {},
     "output_type": "execute_result"
    }
   ],
   "source": [
    "#Step 6\n",
    "df = df.fillna(df.mean())\n",
    "\n",
    "\n",
    "df.head()"
   ]
  },
  {
   "cell_type": "code",
   "execution_count": 11,
   "metadata": {
    "scrolled": true
   },
   "outputs": [
    {
     "data": {
      "text/plain": [
       "False"
      ]
     },
     "execution_count": 11,
     "metadata": {},
     "output_type": "execute_result"
    }
   ],
   "source": [
    "#Last sanity check for nan values\n",
    "df.isna().values.any()"
   ]
  },
  {
   "cell_type": "markdown",
   "metadata": {},
   "source": [
    "Since a lot of values in physics are more relevant when you consider their log, I'll add columns to the dataframe corresponding to the log of the values"
   ]
  },
  {
   "cell_type": "code",
   "execution_count": 12,
   "metadata": {},
   "outputs": [],
   "source": [
    "df['diameter']= df['diameter'].apply(np.log)\n",
    "for column in df.columns.drop(['diameter','neo','pha']):\n",
    "    df['log('+column+')']=df[column].apply(np.log)\n",
    "df = df.dropna(axis=1)"
   ]
  },
  {
   "cell_type": "markdown",
   "metadata": {},
   "source": [
    "Correlation analysis"
   ]
  },
  {
   "cell_type": "code",
   "execution_count": 13,
   "metadata": {},
   "outputs": [
    {
     "data": {
      "text/plain": [
       "diameter           1.000000\n",
       "H                  0.906135\n",
       "log(H)             0.896375\n",
       "log(albedo)        0.629475\n",
       "log(per_y)         0.622497\n",
       "log(a)             0.622497\n",
       "log(ad)            0.605441\n",
       "data_arc           0.583459\n",
       "albedo             0.579702\n",
       "log(q)             0.533683\n",
       "n_obs_used         0.526710\n",
       "log(data_arc)      0.522696\n",
       "log(moid)          0.504905\n",
       "a                  0.500553\n",
       "log(n_obs_used)    0.483892\n",
       "moid               0.477567\n",
       "ad                 0.476470\n",
       "q                  0.473422\n",
       "per_y              0.316803\n",
       "i                  0.255413\n",
       "log(i)             0.211454\n",
       "log(UB)            0.128233\n",
       "log(BV)            0.128004\n",
       "neo                0.119973\n",
       "log(rot_per)       0.117464\n",
       "BV                 0.104449\n",
       "pha                0.089169\n",
       "UB                 0.079716\n",
       "log(e)             0.059763\n",
       "e                  0.055441\n",
       "GM                 0.028507\n",
       "log(GM)            0.007384\n",
       "rot_per            0.006152\n",
       "w                  0.004292\n",
       "log(w)             0.004283\n",
       "G                  0.003705\n",
       "log(om)            0.002104\n",
       "om                 0.001198\n",
       "Name: diameter, dtype: float64"
      ]
     },
     "execution_count": 13,
     "metadata": {},
     "output_type": "execute_result"
    }
   ],
   "source": [
    "df.corr()['diameter'].abs().sort_values(ascending=False)"
   ]
  },
  {
   "cell_type": "markdown",
   "metadata": {},
   "source": [
    "Now I understand why Nasa's own Asteroid Size Estimator website uses the H value and log(albedo) : https://cneos.jpl.nasa.gov/tools/ast_size_est.html"
   ]
  },
  {
   "cell_type": "markdown",
   "metadata": {},
   "source": [
    "Optional: Removing columns that give too high correlation for curiosity / added difficulty"
   ]
  },
  {
   "cell_type": "code",
   "execution_count": 14,
   "metadata": {},
   "outputs": [
    {
     "data": {
      "text/plain": [
       "Index(['diameter', 'pha', 'moid', 'log(a)', 'log(e)', 'log(i)', 'log(om)',\n",
       "       'log(w)', 'log(q)', 'log(ad)', 'log(per_y)', 'log(data_arc)',\n",
       "       'log(n_obs_used)', 'log(H)', 'log(albedo)', 'log(rot_per)', 'log(GM)',\n",
       "       'log(BV)', 'log(UB)', 'log(moid)'],\n",
       "      dtype='object')"
      ]
     },
     "execution_count": 14,
     "metadata": {},
     "output_type": "execute_result"
    }
   ],
   "source": [
    "### Optional : removing columns that give too high correlation for curiosity\n",
    "tooHighCorr = df.columns[(df.corr()['diameter'].abs().sort_values(ascending=False)  > 0.3)]\n",
    "df = df.drop(tooHighCorr.drop('diameter'),axis=1)\n",
    "df.columns"
   ]
  },
  {
   "cell_type": "markdown",
   "metadata": {},
   "source": [
    "Time to split the dataframe into train and test dataframes and predict the diameter"
   ]
  },
  {
   "cell_type": "code",
   "execution_count": 15,
   "metadata": {},
   "outputs": [],
   "source": [
    "from sklearn.model_selection import train_test_split\n",
    "predictors = df.drop('diameter',axis=1) \n",
    "target = df['diameter']\n",
    "X_train,X_test,Y_train,Y_test = train_test_split(predictors,target,test_size=0.20,random_state=0)"
   ]
  },
  {
   "cell_type": "code",
   "execution_count": 16,
   "metadata": {},
   "outputs": [
    {
     "data": {
      "text/html": [
       "<div>\n",
       "<style scoped>\n",
       "    .dataframe tbody tr th:only-of-type {\n",
       "        vertical-align: middle;\n",
       "    }\n",
       "\n",
       "    .dataframe tbody tr th {\n",
       "        vertical-align: top;\n",
       "    }\n",
       "\n",
       "    .dataframe thead th {\n",
       "        text-align: right;\n",
       "    }\n",
       "</style>\n",
       "<table border=\"1\" class=\"dataframe\">\n",
       "  <thead>\n",
       "    <tr style=\"text-align: right;\">\n",
       "      <th></th>\n",
       "      <th>pha</th>\n",
       "      <th>moid</th>\n",
       "      <th>log(a)</th>\n",
       "      <th>log(e)</th>\n",
       "      <th>log(i)</th>\n",
       "      <th>log(om)</th>\n",
       "      <th>log(w)</th>\n",
       "      <th>log(q)</th>\n",
       "      <th>log(ad)</th>\n",
       "      <th>log(per_y)</th>\n",
       "      <th>log(data_arc)</th>\n",
       "      <th>log(n_obs_used)</th>\n",
       "      <th>log(H)</th>\n",
       "      <th>log(albedo)</th>\n",
       "      <th>log(rot_per)</th>\n",
       "      <th>log(GM)</th>\n",
       "      <th>log(BV)</th>\n",
       "      <th>log(UB)</th>\n",
       "      <th>log(moid)</th>\n",
       "    </tr>\n",
       "  </thead>\n",
       "  <tbody>\n",
       "    <tr>\n",
       "      <th>11845</th>\n",
       "      <td>False</td>\n",
       "      <td>1.242370</td>\n",
       "      <td>0.929855</td>\n",
       "      <td>-2.109792</td>\n",
       "      <td>1.540381</td>\n",
       "      <td>4.532504</td>\n",
       "      <td>5.834003</td>\n",
       "      <td>0.800586</td>\n",
       "      <td>1.044311</td>\n",
       "      <td>1.394802</td>\n",
       "      <td>9.683651</td>\n",
       "      <td>7.545390</td>\n",
       "      <td>2.610070</td>\n",
       "      <td>-0.853316</td>\n",
       "      <td>3.167610</td>\n",
       "      <td>2.284023</td>\n",
       "      <td>-0.262749</td>\n",
       "      <td>-1.009424</td>\n",
       "      <td>0.217021</td>\n",
       "    </tr>\n",
       "    <tr>\n",
       "      <th>931</th>\n",
       "      <td>False</td>\n",
       "      <td>1.223030</td>\n",
       "      <td>0.883868</td>\n",
       "      <td>-2.404408</td>\n",
       "      <td>2.093477</td>\n",
       "      <td>2.706251</td>\n",
       "      <td>3.907671</td>\n",
       "      <td>0.789207</td>\n",
       "      <td>0.970339</td>\n",
       "      <td>1.325821</td>\n",
       "      <td>10.499821</td>\n",
       "      <td>7.748029</td>\n",
       "      <td>2.302585</td>\n",
       "      <td>-2.975930</td>\n",
       "      <td>4.362334</td>\n",
       "      <td>2.284023</td>\n",
       "      <td>-0.396010</td>\n",
       "      <td>-1.114742</td>\n",
       "      <td>0.201331</td>\n",
       "    </tr>\n",
       "    <tr>\n",
       "      <th>4617</th>\n",
       "      <td>False</td>\n",
       "      <td>0.897468</td>\n",
       "      <td>0.966045</td>\n",
       "      <td>-1.229972</td>\n",
       "      <td>2.440049</td>\n",
       "      <td>5.837413</td>\n",
       "      <td>4.123267</td>\n",
       "      <td>0.620309</td>\n",
       "      <td>1.222469</td>\n",
       "      <td>1.449086</td>\n",
       "      <td>10.214532</td>\n",
       "      <td>7.146772</td>\n",
       "      <td>2.595255</td>\n",
       "      <td>-2.087474</td>\n",
       "      <td>3.167610</td>\n",
       "      <td>2.284023</td>\n",
       "      <td>-0.262749</td>\n",
       "      <td>-1.009424</td>\n",
       "      <td>-0.108178</td>\n",
       "    </tr>\n",
       "    <tr>\n",
       "      <th>2290</th>\n",
       "      <td>False</td>\n",
       "      <td>1.919340</td>\n",
       "      <td>1.113054</td>\n",
       "      <td>-2.731107</td>\n",
       "      <td>3.198336</td>\n",
       "      <td>5.132807</td>\n",
       "      <td>5.692001</td>\n",
       "      <td>1.045688</td>\n",
       "      <td>1.176167</td>\n",
       "      <td>1.669600</td>\n",
       "      <td>10.600726</td>\n",
       "      <td>7.681099</td>\n",
       "      <td>2.379546</td>\n",
       "      <td>-3.015935</td>\n",
       "      <td>2.264883</td>\n",
       "      <td>2.284023</td>\n",
       "      <td>-0.262749</td>\n",
       "      <td>-1.009424</td>\n",
       "      <td>0.651981</td>\n",
       "    </tr>\n",
       "    <tr>\n",
       "      <th>27554</th>\n",
       "      <td>False</td>\n",
       "      <td>1.921900</td>\n",
       "      <td>1.122177</td>\n",
       "      <td>-2.789985</td>\n",
       "      <td>2.355304</td>\n",
       "      <td>3.955130</td>\n",
       "      <td>4.447135</td>\n",
       "      <td>1.058788</td>\n",
       "      <td>1.181787</td>\n",
       "      <td>1.683285</td>\n",
       "      <td>8.959954</td>\n",
       "      <td>6.818924</td>\n",
       "      <td>2.631889</td>\n",
       "      <td>-2.364460</td>\n",
       "      <td>3.167610</td>\n",
       "      <td>2.284023</td>\n",
       "      <td>-0.262749</td>\n",
       "      <td>-1.009424</td>\n",
       "      <td>0.653314</td>\n",
       "    </tr>\n",
       "  </tbody>\n",
       "</table>\n",
       "</div>"
      ],
      "text/plain": [
       "         pha      moid    log(a)    log(e)    log(i)   log(om)    log(w)  \\\n",
       "11845  False  1.242370  0.929855 -2.109792  1.540381  4.532504  5.834003   \n",
       "931    False  1.223030  0.883868 -2.404408  2.093477  2.706251  3.907671   \n",
       "4617   False  0.897468  0.966045 -1.229972  2.440049  5.837413  4.123267   \n",
       "2290   False  1.919340  1.113054 -2.731107  3.198336  5.132807  5.692001   \n",
       "27554  False  1.921900  1.122177 -2.789985  2.355304  3.955130  4.447135   \n",
       "\n",
       "         log(q)   log(ad)  log(per_y)  log(data_arc)  log(n_obs_used)  \\\n",
       "11845  0.800586  1.044311    1.394802       9.683651         7.545390   \n",
       "931    0.789207  0.970339    1.325821      10.499821         7.748029   \n",
       "4617   0.620309  1.222469    1.449086      10.214532         7.146772   \n",
       "2290   1.045688  1.176167    1.669600      10.600726         7.681099   \n",
       "27554  1.058788  1.181787    1.683285       8.959954         6.818924   \n",
       "\n",
       "         log(H)  log(albedo)  log(rot_per)   log(GM)   log(BV)   log(UB)  \\\n",
       "11845  2.610070    -0.853316      3.167610  2.284023 -0.262749 -1.009424   \n",
       "931    2.302585    -2.975930      4.362334  2.284023 -0.396010 -1.114742   \n",
       "4617   2.595255    -2.087474      3.167610  2.284023 -0.262749 -1.009424   \n",
       "2290   2.379546    -3.015935      2.264883  2.284023 -0.262749 -1.009424   \n",
       "27554  2.631889    -2.364460      3.167610  2.284023 -0.262749 -1.009424   \n",
       "\n",
       "       log(moid)  \n",
       "11845   0.217021  \n",
       "931     0.201331  \n",
       "4617   -0.108178  \n",
       "2290    0.651981  \n",
       "27554   0.653314  "
      ]
     },
     "execution_count": 16,
     "metadata": {},
     "output_type": "execute_result"
    }
   ],
   "source": [
    "X_train.head()"
   ]
  },
  {
   "cell_type": "markdown",
   "metadata": {},
   "source": [
    "Normalization"
   ]
  },
  {
   "cell_type": "code",
   "execution_count": 17,
   "metadata": {},
   "outputs": [],
   "source": [
    "from sklearn import preprocessing\n",
    "std_scaler = preprocessing.StandardScaler().fit(X_train)\n",
    "\n",
    "\n",
    "def scaler(X):\n",
    "    x_norm_arr= std_scaler.fit_transform(X)\n",
    "    return pd.DataFrame(x_norm_arr)\n",
    "\n",
    "X_train_norm = scaler(X_train)\n",
    "X_test_norm = scaler(X_test)\n",
    "\n",
    "X_train_norm.head()\n",
    "\n",
    "\n",
    "Y_std_scaler = preprocessing.StandardScaler().fit(Y_train.values.reshape(-1,1))\n",
    "\n",
    "def Y_scaler(X):\n",
    "    x_norm_arr= Y_std_scaler.fit_transform(X)\n",
    "    return pd.DataFrame(x_norm_arr)\n",
    "\n",
    "Y_train_norm = Y_scaler(Y_train.values.reshape(-1,1))\n",
    "Y_test_norm = Y_scaler (Y_test.values.reshape(-1,1))"
   ]
  },
  {
   "cell_type": "markdown",
   "metadata": {},
   "source": [
    "Regressions"
   ]
  },
  {
   "cell_type": "code",
   "execution_count": 18,
   "metadata": {},
   "outputs": [],
   "source": [
    "from sklearn.metrics import r2_score\n",
    "import seaborn as sns"
   ]
  },
  {
   "cell_type": "markdown",
   "metadata": {},
   "source": [
    "Linear Regression (not using normalization)"
   ]
  },
  {
   "cell_type": "code",
   "execution_count": 19,
   "metadata": {},
   "outputs": [
    {
     "name": "stdout",
     "output_type": "stream",
     "text": [
      "The R2 score achieved using Linear Regression is: 0.979\n"
     ]
    },
    {
     "data": {
      "image/png": "[encoded data removed]",
      "text/plain": [
       "<Figure size 432x288 with 1 Axes>"
      ]
     },
     "metadata": {
      "needs_background": "light"
     },
     "output_type": "display_data"
    }
   ],
   "source": [
    "from sklearn.linear_model import LinearRegression\n",
    "\n",
    "lr = LinearRegression()\n",
    "\n",
    "lr.fit(X_train,Y_train_norm)\n",
    "\n",
    "Y_pred_lr = lr.predict(X_test)\n",
    "\n",
    "sns.distplot(Y_test_norm.values,label='value')\n",
    "sns.distplot(Y_pred_lr,label='prediction')\n",
    "plt.legend()\n",
    "score_lr = r2_score(Y_pred_lr,Y_test_norm)\n",
    "print(\"The R2 score achieved using Linear Regression is: \"+str(round(score_lr,3)))"
   ]
  },
  {
   "cell_type": "markdown",
   "metadata": {},
   "source": [
    "Nearest Neighbors regression"
   ]
  },
  {
   "cell_type": "code",
   "execution_count": 20,
   "metadata": {},
   "outputs": [
    {
     "name": "stdout",
     "output_type": "stream",
     "text": [
      "The R2 score achieved using NN Regression is: 0.933\n"
     ]
    },
    {
     "data": {
      "image/png": "[encoded data removed]",
      "text/plain": [
       "<Figure size 432x288 with 1 Axes>"
      ]
     },
     "metadata": {
      "needs_background": "light"
     },
     "output_type": "display_data"
    }
   ],
   "source": [
    "from sklearn.neighbors import KNeighborsRegressor\n",
    "neigh = KNeighborsRegressor(n_neighbors=5)\n",
    "neigh.fit(X_train_norm,Y_train_norm)\n",
    "\n",
    "Y_pred_neigh = neigh.predict(X_test_norm)\n",
    "\n",
    "sns.distplot(Y_test_norm.values,label='value')\n",
    "sns.distplot(Y_pred_neigh,label='prediction')\n",
    "plt.legend()\n",
    "score_neigh = r2_score(Y_pred_neigh,Y_test_norm)\n",
    "print(\"The R2 score achieved using NN Regression is: \"+str(round(score_neigh,3)))"
   ]
  },
  {
   "cell_type": "markdown",
   "metadata": {},
   "source": [
    "Decision Tree"
   ]
  },
  {
   "cell_type": "code",
   "execution_count": 21,
   "metadata": {},
   "outputs": [
    {
     "name": "stdout",
     "output_type": "stream",
     "text": [
      "The R2 score achieved using Decision Tree Regression is: 0.969\n"
     ]
    },
    {
     "data": {
      "image/png": "[encoded data removed]",
      "text/plain": [
       "<Figure size 432x288 with 1 Axes>"
      ]
     },
     "metadata": {
      "needs_background": "light"
     },
     "output_type": "display_data"
    }
   ],
   "source": [
    "from sklearn import tree\n",
    "decTree = tree.DecisionTreeRegressor()\n",
    "decTree = decTree.fit(X_train_norm,Y_train_norm)\n",
    "\n",
    "Y_pred_tree = decTree.predict(X_test_norm)\n",
    "\n",
    "sns.distplot(Y_test_norm.values,label='value')\n",
    "sns.distplot(Y_pred_tree,label='prediction')\n",
    "plt.legend()\n",
    "score_tree = r2_score(Y_pred_tree,Y_test_norm)\n",
    "print(\"The R2 score achieved using Decision Tree Regression is: \"+str(round(score_tree,3)))"
   ]
  },
  {
   "cell_type": "markdown",
   "metadata": {},
   "source": [
    "Random Forest"
   ]
  },
  {
   "cell_type": "code",
   "execution_count": 22,
   "metadata": {},
   "outputs": [
    {
     "name": "stdout",
     "output_type": "stream",
     "text": [
      "The R2 score achieved using Random Forest Regression is: 0.985\n"
     ]
    },
    {
     "data": {
      "image/png": "[encoded data removed]",
      "text/plain": [
       "<Figure size 432x288 with 1 Axes>"
      ]
     },
     "metadata": {
      "needs_background": "light"
     },
     "output_type": "display_data"
    }
   ],
   "source": [
    "from sklearn.ensemble import RandomForestRegressor\n",
    "forest = RandomForestRegressor(max_depth=10, random_state=0, n_estimators=100)\n",
    "forest.fit(X_train_norm,np.ravel(Y_train_norm))\n",
    "\n",
    "Y_pred_forest = forest.predict(X_test_norm)\n",
    "\n",
    "sns.distplot(Y_test_norm.values,label='value')\n",
    "sns.distplot(Y_pred_forest,label='prediction')\n",
    "plt.legend()\n",
    "score_forest = r2_score(Y_pred_forest,Y_test_norm)\n",
    "print(\"The R2 score achieved using Random Forest Regression is: \"+str(round(score_forest,3)))"
   ]
  },
  {
   "cell_type": "markdown",
   "metadata": {},
   "source": [
    "Neural Network"
   ]
  },
  {
   "cell_type": "code",
   "execution_count": 23,
   "metadata": {},
   "outputs": [
    {
     "name": "stderr",
     "output_type": "stream",
     "text": [
      "Using TensorFlow backend.\n"
     ]
    },
    {
     "name": "stdout",
     "output_type": "stream",
     "text": [
      "Epoch 1/20\n",
      "18090/18090 [==============================] - 1s 40us/step - loss: 0.2578\n",
      "Epoch 2/20\n",
      "18090/18090 [==============================] - 1s 37us/step - loss: 0.0498\n",
      "Epoch 3/20\n",
      "18090/18090 [==============================] - 1s 42us/step - loss: 0.0318\n",
      "Epoch 4/20\n",
      "18090/18090 [==============================] - 1s 48us/step - loss: 0.0255\n",
      "Epoch 5/20\n",
      "18090/18090 [==============================] - 1s 45us/step - loss: 0.0229\n",
      "Epoch 6/20\n",
      "18090/18090 [==============================] - 1s 38us/step - loss: 0.0217\n",
      "Epoch 7/20\n",
      "18090/18090 [==============================] - 1s 41us/step - loss: 0.0207\n",
      "Epoch 8/20\n",
      "18090/18090 [==============================] - 1s 37us/step - loss: 0.0200\n",
      "Epoch 9/20\n",
      "18090/18090 [==============================] - 1s 32us/step - loss: 0.0199\n",
      "Epoch 10/20\n",
      "18090/18090 [==============================] - 1s 39us/step - loss: 0.0189\n",
      "Epoch 11/20\n",
      "18090/18090 [==============================] - 1s 37us/step - loss: 0.0187\n",
      "Epoch 12/20\n",
      "18090/18090 [==============================] - 1s 40us/step - loss: 0.0184\n",
      "Epoch 13/20\n",
      "18090/18090 [==============================] - 1s 41us/step - loss: 0.0180\n",
      "Epoch 14/20\n",
      "18090/18090 [==============================] - 1s 42us/step - loss: 0.0176\n",
      "Epoch 15/20\n",
      "18090/18090 [==============================] - 1s 42us/step - loss: 0.0175\n",
      "Epoch 16/20\n",
      "18090/18090 [==============================] - 1s 42us/step - loss: 0.0180\n",
      "Epoch 17/20\n",
      "18090/18090 [==============================] - 1s 32us/step - loss: 0.0173\n",
      "Epoch 18/20\n",
      "18090/18090 [==============================] - 1s 38us/step - loss: 0.0169\n",
      "Epoch 19/20\n",
      "18090/18090 [==============================] - 1s 44us/step - loss: 0.0166\n",
      "Epoch 20/20\n",
      "18090/18090 [==============================] - 1s 44us/step - loss: 0.0167\n",
      "The R2 score achieved using Neural Network is: 0.982 %\n"
     ]
    },
    {
     "data": {
      "image/png": "[encoded data removed]",
      "text/plain": [
       "<Figure size 432x288 with 1 Axes>"
      ]
     },
     "metadata": {
      "needs_background": "light"
     },
     "output_type": "display_data"
    }
   ],
   "source": [
    "from keras import optimizers\n",
    "from keras.models import Sequential\n",
    "from keras.layers import Dense, Dropout, BatchNormalization\n",
    "\n",
    "\n",
    "### Defining the model\n",
    "model = Sequential()\n",
    "model.add(Dense(20,activation='relu',input_dim=X_train_norm.shape[1]))\n",
    "model.add(Dense(5,activation='relu'))\n",
    "model.add(Dense(5,activation='relu'))\n",
    "model.add(Dense(1,activation='linear'))\n",
    "\n",
    "model.compile(loss='mean_squared_error',optimizer='adam')\n",
    "\n",
    "### Training\n",
    "\n",
    "model.fit(X_train_norm,Y_train_norm,epochs=20,batch_size=32)\n",
    "\n",
    "### Testing\n",
    "\n",
    "Y_pred_nn = model.predict(X_test_norm)\n",
    "\n",
    "### Evaluating\n",
    "sns.distplot(Y_test_norm, label = 'value')\n",
    "sns.distplot(Y_pred_nn,label = 'prediction')\n",
    "\n",
    "score_nn = round(r2_score(Y_pred_nn[:,0],Y_test_norm),3)\n",
    "\n",
    "print(\"The R2 score achieved using Neural Network is: \"+str(score_nn)+\" %\")"
   ]
  }
 ],
 "metadata": {
  "kernelspec": {
   "display_name": "Python 3",
   "language": "python",
   "name": "python3"
  },
  "language_info": {
   "codemirror_mode": {
    "name": "ipython",
    "version": 3
   },
   "file_extension": ".py",
   "mimetype": "text/x-python",
   "name": "python",
   "nbconvert_exporter": "python",
   "pygments_lexer": "ipython3",
   "version": "3.7.4"
  }
 },
 "nbformat": 4,
 "nbformat_minor": 2
}
